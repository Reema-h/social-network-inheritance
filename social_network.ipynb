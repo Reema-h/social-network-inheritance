{
  "nbformat": 4,
  "nbformat_minor": 0,
  "metadata": {
    "colab": {
      "provenance": [],
      "authorship_tag": "ABX9TyN7Mss6h2f0PWyJeXTjAGQs",
      "include_colab_link": true
    },
    "kernelspec": {
      "name": "python3",
      "display_name": "Python 3"
    },
    "language_info": {
      "name": "python"
    }
  },
  "cells": [
    {
      "cell_type": "markdown",
      "metadata": {
        "id": "view-in-github",
        "colab_type": "text"
      },
      "source": [
        "<a href=\"https://colab.research.google.com/github/Reema-h/social-network-inheritance/blob/master/social_network.ipynb\" target=\"_parent\"><img src=\"https://colab.research.google.com/assets/colab-badge.svg\" alt=\"Open In Colab\"/></a>"
      ]
    },
    {
      "cell_type": "code",
      "execution_count": 1,
      "metadata": {
        "id": "yhiIpY4cc_8c"
      },
      "outputs": [],
      "source": [
        "from datetime import datetime"
      ]
    },
    {
      "cell_type": "code",
      "source": [
        "class Post:\n",
        "    def __init__(self, text):\n",
        "        self.text = text\n",
        "        self.user = None\n",
        "        self.created_at = datetime.now()"
      ],
      "metadata": {
        "id": "Z4DljPciidqe"
      },
      "execution_count": 2,
      "outputs": []
    },
    {
      "cell_type": "code",
      "source": [
        "class TextPost(Post):\n",
        "    def __init__(self, text):\n",
        "        super().__init__(text)\n",
        "\n",
        "    def __str__(self):\n",
        "        return f'{self.user.first_name} {self.user.last_name}: \"{self.text}\"\\n{self.created_at.strftime(\"%A, %b %d, %Y\")}'"
      ],
      "metadata": {
        "id": "aiIKscEoif8S"
      },
      "execution_count": 3,
      "outputs": []
    },
    {
      "cell_type": "code",
      "source": [
        "class PicturePost(Post):\n",
        "    def __init__(self, text, image_url):\n",
        "        super().__init__(text)\n",
        "        self.image_url = image_url\n",
        "\n",
        "    def __str__(self):\n",
        "        return f'{self.user.first_name} {self.user.last_name}: \"{self.text}\"\\nPic URL: {self.image_url}\\n{self.created_at.strftime(\"%A, %b %d, %Y\")}'"
      ],
      "metadata": {
        "id": "dXX4-4ykihqp"
      },
      "execution_count": 4,
      "outputs": []
    },
    {
      "cell_type": "code",
      "source": [
        "class CheckInPost(Post):\n",
        "    def __init__(self, text, latitude, longitude):\n",
        "        super().__init__(text)\n",
        "        self.latitude = latitude\n",
        "        self.longitude = longitude\n",
        "\n",
        "    def __str__(self):\n",
        "        return f'{self.user.first_name} Checked In: \"{self.text}\"\\n{self.latitude}, {self.longitude}\\n{self.created_at.strftime(\"%A, %b %d, %Y\")}'"
      ],
      "metadata": {
        "id": "ZJxmzyKIioz-"
      },
      "execution_count": 5,
      "outputs": []
    },
    {
      "cell_type": "code",
      "source": [
        "class User:\n",
        "    def __init__(self, first_name, last_name, email):\n",
        "        self.first_name = first_name\n",
        "        self.last_name = last_name\n",
        "        self.email = email\n",
        "        self.posts = []\n",
        "        self.following = []\n",
        "\n",
        "    def add_post(self, post):\n",
        "        post.user = self\n",
        "        self.posts.append(post)\n",
        "\n",
        "    def follow(self, user):\n",
        "        self.following.append(user)\n",
        "\n",
        "    def get_timeline(self):\n",
        "        timeline = []\n",
        "        for user in self.following:\n",
        "            timeline.extend(user.posts)\n",
        "        return sorted(timeline, key=lambda post: post.created_at, reverse=True)"
      ],
      "metadata": {
        "id": "Bz1lvd4Kit28"
      },
      "execution_count": 6,
      "outputs": []
    },
    {
      "cell_type": "code",
      "source": [
        "if __name__ == \"__main__\":\n",
        "    john = User(\"John\", \"Lennon\", \"john@rmotr.com\")\n",
        "    paul = User(\"Paul\", \"McCartney\", \"paul@rmotr.com\")\n",
        "    george = User(\"George\", \"Harrison\", \"george@rmotr.com\")\n",
        "\n",
        "    john.follow(paul)\n",
        "    john.follow(george)\n",
        "\n",
        "    paul.add_post(TextPost(\"Post 1\"))\n",
        "    george.add_post(TextPost(\"Post 2\"))\n",
        "    paul.add_post(TextPost(\"Post 3\"))\n",
        "\n",
        "    print(john.get_timeline())"
      ],
      "metadata": {
        "colab": {
          "base_uri": "https://localhost:8080/"
        },
        "id": "yLE8IntFiwkN",
        "outputId": "4022b2ea-bb94-470b-f55b-2863badf0d09"
      },
      "execution_count": 7,
      "outputs": [
        {
          "output_type": "stream",
          "name": "stdout",
          "text": [
            "[<__main__.TextPost object at 0x7aa97718ca30>, <__main__.TextPost object at 0x7aa97718df60>, <__main__.TextPost object at 0x7aa97718d2a0>]\n"
          ]
        }
      ]
    }
  ]
}